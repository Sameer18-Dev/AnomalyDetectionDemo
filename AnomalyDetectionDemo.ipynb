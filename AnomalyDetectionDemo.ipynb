{
  "nbformat": 4,
  "nbformat_minor": 0,
  "metadata": {
    "kernelspec": {
      "display_name": "Python 3",
      "language": "python",
      "name": "python3"
    },
    "language_info": {
      "codemirror_mode": {
        "name": "ipython",
        "version": 3
      },
      "file_extension": ".py",
      "mimetype": "text/x-python",
      "name": "python",
      "nbconvert_exporter": "python",
      "pygments_lexer": "ipython3",
      "version": "3.6.5"
    },
    "latex_envs": {
      "LaTeX_envs_menu_present": true,
      "autoclose": false,
      "autocomplete": true,
      "bibliofile": "biblio.bib",
      "cite_by": "apalike",
      "current_citInitial": 1,
      "eqLabelWithNumbers": true,
      "eqNumInitial": 1,
      "hotkeys": {
        "equation": "Ctrl-E",
        "itemize": "Ctrl-I"
      },
      "labels_anchors": false,
      "latex_user_defs": false,
      "report_style_numbering": false,
      "user_envs_cfg": false
    },
    "toc": {
      "base_numbering": 1,
      "nav_menu": {},
      "number_sections": false,
      "sideBar": true,
      "skip_h1_title": false,
      "title_cell": "Table of Contents",
      "title_sidebar": "Contents",
      "toc_cell": false,
      "toc_position": {},
      "toc_section_display": true,
      "toc_window_display": false
    },
    "colab": {
      "name": "AnomalyDetectionDemo.ipynb",
      "provenance": []
    }
  },
  "cells": [
    {
      "cell_type": "markdown",
      "metadata": {
        "id": "0AoaC0Hn_fKA",
        "colab_type": "text"
      },
      "source": [
        "# \"Introduction to Anomaly Detection in Python\"\n",
        "\n",
        "\n"
      ]
    },
    {
      "cell_type": "code",
      "metadata": {
        "id": "iYdY0xnG_fKL",
        "colab_type": "code",
        "colab": {}
      },
      "source": [
        "# Import the necessary packages\n",
        "import pandas as pd\n",
        "import numpy as np\n",
        "import matplotlib.pyplot as plt\n",
        "\n",
        "# Shpw the plots in your Jupyter Notebook\n",
        "#%matplotlib inline\n",
        "# Use a predefined style set\n",
        "plt.style.use('ggplot')"
      ],
      "execution_count": 0,
      "outputs": []
    },
    {
      "cell_type": "markdown",
      "metadata": {
        "id": "1uR8l2tb_fKS",
        "colab_type": "text"
      },
      "source": [
        "Let's first create a dummy dataset for ourselves. The dataset will contain just two columns - \n",
        "- Name of the employees.\n",
        "- Salaries of those employees (in USD) within a range of 1000 to 2500.\n",
        "\n",
        "For generating the names we will use a Python library called `Faker`."
      ]
    },
    {
      "cell_type": "code",
      "metadata": {
        "id": "uGtc_XvS_fKU",
        "colab_type": "code",
        "colab": {
          "base_uri": "https://localhost:8080/",
          "height": 104
        },
        "outputId": "1bbe4786-26bc-4893-f4b0-4e3604a200fd"
      },
      "source": [
        "!pip install faker\n",
        "from faker import Faker\n",
        "fake = Faker()\n",
        "\n",
        "# To ensure the results are reproducible\n",
        "Faker.seed(4321)\n",
        "\n",
        "names_list = []\n",
        "\n",
        "fake = Faker()\n",
        "for _ in range(100):\n",
        "  names_list.append(fake.name())\n",
        "\n",
        "# Verify if 100 names were generated\n",
        "len(names_list)"
      ],
      "execution_count": 10,
      "outputs": [
        {
          "output_type": "stream",
          "text": [
            "Requirement already satisfied: faker in /usr/local/lib/python3.6/dist-packages (3.0.0)\n",
            "Requirement already satisfied: text-unidecode==1.3 in /usr/local/lib/python3.6/dist-packages (from faker) (1.3)\n",
            "Requirement already satisfied: python-dateutil>=2.4 in /usr/local/lib/python3.6/dist-packages (from faker) (2.6.1)\n",
            "Requirement already satisfied: six>=1.10 in /usr/local/lib/python3.6/dist-packages (from faker) (1.12.0)\n"
          ],
          "name": "stdout"
        },
        {
          "output_type": "execute_result",
          "data": {
            "text/plain": [
              "100"
            ]
          },
          "metadata": {
            "tags": []
          },
          "execution_count": 10
        }
      ]
    },
    {
      "cell_type": "code",
      "metadata": {
        "id": "-Eee3l86_fKa",
        "colab_type": "code",
        "colab": {
          "base_uri": "https://localhost:8080/",
          "height": 35
        },
        "outputId": "400a8cbc-98a7-4333-dabd-43d6e06a1029"
      },
      "source": [
        "# To ensure the results are reproducible\n",
        "np.random.seed(7)\n",
        "\n",
        "salaries = []\n",
        "for _ in range(100):\n",
        "    salary = np.random.randint(1000,2500)\n",
        "    salaries.append(salary)\n",
        "\n",
        "    # Verify if 100 salariy values were generated\n",
        "len(salaries)"
      ],
      "execution_count": 11,
      "outputs": [
        {
          "output_type": "execute_result",
          "data": {
            "text/plain": [
              "100"
            ]
          },
          "metadata": {
            "tags": []
          },
          "execution_count": 11
        }
      ]
    },
    {
      "cell_type": "code",
      "metadata": {
        "id": "8-OlKcaP_fKf",
        "colab_type": "code",
        "colab": {
          "base_uri": "https://localhost:8080/",
          "height": 202
        },
        "outputId": "fe6375b0-1de5-4e44-96b7-3963b348f097"
      },
      "source": [
        "# Create pandas DataFrame\n",
        "salary_df = pd.DataFrame(\n",
        "    {'Person': names_list,\n",
        "     'Salary (in USD)': salaries\n",
        "    })\n",
        "\n",
        "# Print a subsection of the DataFrame\n",
        "salary_df.head()"
      ],
      "execution_count": 14,
      "outputs": [
        {
          "output_type": "execute_result",
          "data": {
            "text/html": [
              "<div>\n",
              "<style scoped>\n",
              "    .dataframe tbody tr th:only-of-type {\n",
              "        vertical-align: middle;\n",
              "    }\n",
              "\n",
              "    .dataframe tbody tr th {\n",
              "        vertical-align: top;\n",
              "    }\n",
              "\n",
              "    .dataframe thead th {\n",
              "        text-align: right;\n",
              "    }\n",
              "</style>\n",
              "<table border=\"1\" class=\"dataframe\">\n",
              "  <thead>\n",
              "    <tr style=\"text-align: right;\">\n",
              "      <th></th>\n",
              "      <th>Person</th>\n",
              "      <th>Salary (in USD)</th>\n",
              "    </tr>\n",
              "  </thead>\n",
              "  <tbody>\n",
              "    <tr>\n",
              "      <th>0</th>\n",
              "      <td>Jason Brown</td>\n",
              "      <td>1175</td>\n",
              "    </tr>\n",
              "    <tr>\n",
              "      <th>1</th>\n",
              "      <td>Jacob Stein</td>\n",
              "      <td>2220</td>\n",
              "    </tr>\n",
              "    <tr>\n",
              "      <th>2</th>\n",
              "      <td>Cody Brown</td>\n",
              "      <td>1537</td>\n",
              "    </tr>\n",
              "    <tr>\n",
              "      <th>3</th>\n",
              "      <td>Larry Morales</td>\n",
              "      <td>1502</td>\n",
              "    </tr>\n",
              "    <tr>\n",
              "      <th>4</th>\n",
              "      <td>Jessica Hendricks</td>\n",
              "      <td>1211</td>\n",
              "    </tr>\n",
              "  </tbody>\n",
              "</table>\n",
              "</div>"
            ],
            "text/plain": [
              "              Person  Salary (in USD)\n",
              "0        Jason Brown             1175\n",
              "1        Jacob Stein             2220\n",
              "2         Cody Brown             1537\n",
              "3      Larry Morales             1502\n",
              "4  Jessica Hendricks             1211"
            ]
          },
          "metadata": {
            "tags": []
          },
          "execution_count": 14
        }
      ]
    },
    {
      "cell_type": "markdown",
      "metadata": {
        "id": "XTGXFAeb_fKk",
        "colab_type": "text"
      },
      "source": [
        "Let's now manually change the salary entries of two individuals. In reality, this can actually happen for a number of reasons such as the data recording software may have got corrupted at the time of recording the respective data."
      ]
    },
    {
      "cell_type": "code",
      "metadata": {
        "id": "yCL693sh_fKl",
        "colab_type": "code",
        "colab": {}
      },
      "source": [
        "salary_df.at[16, 'Salary (in USD)'] = 23\n",
        "salary_df.at[65, 'Salary (in USD)'] = 17"
      ],
      "execution_count": 0,
      "outputs": []
    },
    {
      "cell_type": "code",
      "metadata": {
        "id": "O6rsBxD5_fKp",
        "colab_type": "code",
        "colab": {
          "base_uri": "https://localhost:8080/",
          "height": 121
        },
        "outputId": "3331ad06-6974-4155-b2da-67cc555ab01f"
      },
      "source": [
        "# Verify if the salaries were changed\n",
        "print(salary_df.loc[16])\n",
        "print(salary_df.loc[65])"
      ],
      "execution_count": 16,
      "outputs": [
        {
          "output_type": "stream",
          "text": [
            "Person             Miss Amanda Harris MD\n",
            "Salary (in USD)                       23\n",
            "Name: 16, dtype: object\n",
            "Person             Joyce Bishop\n",
            "Salary (in USD)              17\n",
            "Name: 65, dtype: object\n"
          ],
          "name": "stdout"
        }
      ]
    },
    {
      "cell_type": "markdown",
      "metadata": {
        "id": "4Qof06ef_fKt",
        "colab_type": "text"
      },
      "source": [
        "### Boxplots"
      ]
    },
    {
      "cell_type": "markdown",
      "metadata": {
        "id": "-DuLlhQn_fKu",
        "colab_type": "text"
      },
      "source": [
        "The generation of anomalies within data directly depends on the generation of the data points itself. Some basic statistics (like minimum value, maximum value, 1st quartile values etc.) in the form of a boxplot. \n",
        "\n",
        "![](https://pro.arcgis.com/en/pro-app/help/analysis/geoprocessing/charts/GUID-0E2C3730-C535-40CD-8152-80D794A996A7-web.png)"
      ]
    },
    {
      "cell_type": "code",
      "metadata": {
        "id": "0AD0eV2C_fKv",
        "colab_type": "code",
        "colab": {
          "base_uri": "https://localhost:8080/",
          "height": 265
        },
        "outputId": "aeb36070-77a4-4442-86ea-22504206d667"
      },
      "source": [
        "salary_df['Salary (in USD)'].plot(kind='box')\n",
        "plt.show()"
      ],
      "execution_count": 17,
      "outputs": [
        {
          "output_type": "display_data",
          "data": {
            "image/png": "[encoded data removed]",
            "text/plain": [
              "<Figure size 432x288 with 1 Axes>"
            ]
          },
          "metadata": {
            "tags": []
          }
        }
      ]
    },
    {
      "cell_type": "markdown",
      "metadata": {
        "id": "uBspmQOp_fKy",
        "colab_type": "text"
      },
      "source": [
        "Notice the tiny circle point in the bottom. You instantly get a feeling of something wrong in there as _it deviates hugely from the rest of the data."
      ]
    },
    {
      "cell_type": "markdown",
      "metadata": {
        "id": "erU71384_fKz",
        "colab_type": "text"
      },
      "source": [
        "### Histograms "
      ]
    },
    {
      "cell_type": "code",
      "metadata": {
        "id": "m4bGLp___fK0",
        "colab_type": "code",
        "colab": {
          "base_uri": "https://localhost:8080/",
          "height": 282
        },
        "outputId": "0c7d4bc1-a467-445d-fdff-ecce33542447"
      },
      "source": [
        "ax = salary_df['Salary (in USD)'].plot(kind='hist')\n",
        "ax.set_xlabel('Salary (in USD)')\n",
        "plt.show()"
      ],
      "execution_count": 20,
      "outputs": [
        {
          "output_type": "display_data",
          "data": {
            "image/png": "[encoded data removed]",
            "text/plain": [
              "<Figure size 432x288 with 1 Axes>"
            ]
          },
          "metadata": {
            "tags": []
          }
        }
      ]
    },
    {
      "cell_type": "markdown",
      "metadata": {
        "id": "qt2DnGdO_fK3",
        "colab_type": "text"
      },
      "source": [
        "In the above histogram plot also, we can see there's one particular bin that is just not right as it deviates hugely from the rest of the data. We can also infer that there are only two employees for which the salaries seem to be distorted. "
      ]
    },
    {
      "cell_type": "markdown",
      "metadata": {
        "id": "pdtJ7v9s_fK3",
        "colab_type": "text"
      },
      "source": [
        "Let's take a look at the minimum and maximum values of the column `Salary (in USD)`.  "
      ]
    },
    {
      "cell_type": "code",
      "metadata": {
        "id": "E4nyF14U_fK4",
        "colab_type": "code",
        "colab": {
          "base_uri": "https://localhost:8080/",
          "height": 52
        },
        "outputId": "f274f7bc-62ec-4a73-867e-21c5cfec767f"
      },
      "source": [
        "print('Minimum salary ' + str(salary_df['Salary (in USD)'].min()))\n",
        "print('Maximum salary ' + str(salary_df['Salary (in USD)'].max()))"
      ],
      "execution_count": 21,
      "outputs": [
        {
          "output_type": "stream",
          "text": [
            "Minimum salary 17\n",
            "Maximum salary 2498\n"
          ],
          "name": "stdout"
        }
      ]
    },
    {
      "cell_type": "markdown",
      "metadata": {
        "id": "6d_Ul0ju_fK7",
        "colab_type": "text"
      },
      "source": [
        "Look at the **minimum value**. From the accounts department of this hypothetical organization, you got to know that the minimum salary of an employee there is $1000. But you found out something different. Hence, its worth enough to conclude that this is indeed an anomaly. "
      ]
    },
    {
      "cell_type": "markdown",
      "metadata": {
        "id": "SIJXellt_fK8",
        "colab_type": "text"
      },
      "source": [
        "## Clustering based approach for anomaly detection\n",
        "\n",
        "Clustering can be used for anomaly detection. Euclidean distance is a very popular choice when choosing in between several distance measurement functions. Let's take a look at what Euclidean distance is all about. "
      ]
    },
    {
      "cell_type": "markdown",
      "metadata": {
        "id": "8SOkaDwx_fK9",
        "colab_type": "text"
      },
      "source": [
        "### Euclidean distance\n",
        "\n",
        "If there are n points on a two-dimensional space(refer the following figure) and their coordinates are denoted by(x_i, y_i), then the Euclidean distance between any two points((x1, y1) and(x2, y2)) on this space is given by:\n",
        "\n",
        "$$\n",
        "\\sqrt{\\left(x_{1}-x_{2}\\right)^{2}+\\left(y_{1}-y_{2}\\right)^{2}}\n",
        "$$"
      ]
    },
    {
      "cell_type": "markdown",
      "metadata": {
        "id": "hlKqznOY_fK9",
        "colab_type": "text"
      },
      "source": [
        "We are going to use [K-Means clustering] which will help us cluster the data points (salary values in our case). The implementation that we are going to be using for `KMeans` uses Euclidean distance internally."
      ]
    },
    {
      "cell_type": "code",
      "metadata": {
        "id": "cdbakBOl_fK-",
        "colab_type": "code",
        "colab": {}
      },
      "source": [
        "# Convert the salary values to a numpy array\n",
        "salary_raw = salary_df['Salary (in USD)'].values\n",
        "\n",
        "# For compatibility with the SciPy implementation\n",
        "salary_raw = np.reshape(-1, 1)   # Adding Dimension\n",
        "salary_raw = salary_raw.astype('float64') # Casting to float64"
      ],
      "execution_count": 0,
      "outputs": []
    },
    {
      "cell_type": "markdown",
      "metadata": {
        "id": "JW9_LnFC_fLC",
        "colab_type": "text"
      },
      "source": [
        "We will now import the `kmeans` module from `scipy.cluster.vq`. SciPy stands for Scientific Python."
      ]
    },
    {
      "cell_type": "code",
      "metadata": {
        "id": "vORju2Aa_fLD",
        "colab_type": "code",
        "colab": {}
      },
      "source": [
        "from scipy.cluster.vq import kmeans\n",
        "\n",
        "# Supply the data and the number of clusters to kmeans()\n",
        "codebook, distortion = kmeans(salary_raw, 4)"
      ],
      "execution_count": 0,
      "outputs": []
    },
    {
      "cell_type": "markdown",
      "metadata": {
        "id": "WKhQjYM4_fLF",
        "colab_type": "text"
      },
      "source": [
        "In the above chunk of code, we fed the salary data points the `kmeans()`. We also specified the number of clusters to which we want to group the data points. `cookbook` is the centroids generated by `kmeans()` and `distortion` is the averagedEuclidean distance between the data points fed and the centroids generated by `kmeans()`. \n",
        "\n",
        "Let's assign the groups of the data points by calling th `vq()` method. It takes - \n",
        "- The data points\n",
        "- The centroid as generated by the clustering algorithm (`kmeans()` in our case)\n",
        "\n",
        "It then returns the groups of the data points and the distance between the observation and its nearest group."
      ]
    },
    {
      "cell_type": "code",
      "metadata": {
        "id": "J3uuxqEp_fLF",
        "colab_type": "code",
        "colab": {}
      },
      "source": [
        "groups, cdist = cluster.vq.vq(salary_raw, codebook)"
      ],
      "execution_count": 0,
      "outputs": []
    },
    {
      "cell_type": "markdown",
      "metadata": {
        "id": "oxIPRaaG_fLI",
        "colab_type": "text"
      },
      "source": [
        "Let's now plot the groups we have got. "
      ]
    },
    {
      "cell_type": "code",
      "metadata": {
        "scrolled": true,
        "id": "TzKuwbWx_fLJ",
        "colab_type": "code",
        "colab": {},
        "outputId": "ed2fb6cc-d6e4-4976-d3f6-c596b657daaa"
      },
      "source": [
        "plt.scatter(salary_raw, np.arange(0,100), c=groups)\n",
        "plt.xlabel('Salaries in (USD)')\n",
        "plt.ylabel('Indices')\n",
        "plt.show()"
      ],
      "execution_count": 0,
      "outputs": [
        {
          "output_type": "display_data",
          "data": {
            "image/png": "[encoded data removed]",
            "text/plain": [
              "<Figure size 432x288 with 1 Axes>"
            ]
          },
          "metadata": {
            "tags": []
          }
        }
      ]
    },
    {
      "cell_type": "markdown",
      "metadata": {
        "id": "W4g1W1bW_fLL",
        "colab_type": "text"
      },
      "source": [
        "Can you point to the anomalies?"
      ]
    },
    {
      "cell_type": "markdown",
      "metadata": {
        "id": "VtLY0v7H_fLM",
        "colab_type": "text"
      },
      "source": [
        "The above method for anomaly detection is purely [unsupervised] in nature. If we had the class-labels of the data points, we could have easily converted this to a [supervised learning] problem, specifically a _classification_ problem. "
      ]
    },
    {
      "cell_type": "markdown",
      "metadata": {
        "id": "fAvrkdrF_fLM",
        "colab_type": "text"
      },
      "source": [
        "## Anomaly detection as a classification problem\n",
        "\n",
        "To be able to treat the task of anomaly detection as classification task, we need a labeled dataset. Let's give our existing dataset some labels. \n",
        "\n",
        "We will first assign all the entries to the class of 0 and then we will manually edit the labels for those two anomalies. "
      ]
    },
    {
      "cell_type": "code",
      "metadata": {
        "id": "nPU4oeeD_fLN",
        "colab_type": "code",
        "colab": {
          "base_uri": "https://localhost:8080/",
          "height": 87
        },
        "outputId": "5d9ab426-2676-4fdc-dd5c-5272f1619ea4"
      },
      "source": [
        "# First assign all the instances to \n",
        "salary_df['class'] = 0\n",
        "\n",
        "# Manually edit the labels for the anomalies\n",
        "salary_df.at[16, 'class'] = 1\n",
        "salary_df.at[65, 'class'] = 1\n",
        "\n",
        "# Veirfy \n",
        "salary_df.loc[16]"
      ],
      "execution_count": 39,
      "outputs": [
        {
          "output_type": "execute_result",
          "data": {
            "text/plain": [
              "Person             Miss Amanda Harris MD\n",
              "Salary (in USD)                       23\n",
              "class                                  1\n",
              "Name: 16, dtype: object"
            ]
          },
          "metadata": {
            "tags": []
          },
          "execution_count": 39
        }
      ]
    },
    {
      "cell_type": "markdown",
      "metadata": {
        "id": "MGKWpR4Y_fLR",
        "colab_type": "text"
      },
      "source": [
        "Let's take a look at the dataset again."
      ]
    },
    {
      "cell_type": "code",
      "metadata": {
        "id": "dPfrHuTj_fLS",
        "colab_type": "code",
        "colab": {
          "base_uri": "https://localhost:8080/",
          "height": 202
        },
        "outputId": "8f64caa2-fa09-4c2a-9912-c0f1ec4634db"
      },
      "source": [
        "salary_df.head()"
      ],
      "execution_count": 40,
      "outputs": [
        {
          "output_type": "execute_result",
          "data": {
            "text/html": [
              "<div>\n",
              "<style scoped>\n",
              "    .dataframe tbody tr th:only-of-type {\n",
              "        vertical-align: middle;\n",
              "    }\n",
              "\n",
              "    .dataframe tbody tr th {\n",
              "        vertical-align: top;\n",
              "    }\n",
              "\n",
              "    .dataframe thead th {\n",
              "        text-align: right;\n",
              "    }\n",
              "</style>\n",
              "<table border=\"1\" class=\"dataframe\">\n",
              "  <thead>\n",
              "    <tr style=\"text-align: right;\">\n",
              "      <th></th>\n",
              "      <th>Person</th>\n",
              "      <th>Salary (in USD)</th>\n",
              "      <th>class</th>\n",
              "    </tr>\n",
              "  </thead>\n",
              "  <tbody>\n",
              "    <tr>\n",
              "      <th>0</th>\n",
              "      <td>Jason Brown</td>\n",
              "      <td>1175</td>\n",
              "      <td>0</td>\n",
              "    </tr>\n",
              "    <tr>\n",
              "      <th>1</th>\n",
              "      <td>Jacob Stein</td>\n",
              "      <td>2220</td>\n",
              "      <td>0</td>\n",
              "    </tr>\n",
              "    <tr>\n",
              "      <th>2</th>\n",
              "      <td>Cody Brown</td>\n",
              "      <td>1537</td>\n",
              "      <td>0</td>\n",
              "    </tr>\n",
              "    <tr>\n",
              "      <th>3</th>\n",
              "      <td>Larry Morales</td>\n",
              "      <td>1502</td>\n",
              "      <td>0</td>\n",
              "    </tr>\n",
              "    <tr>\n",
              "      <th>4</th>\n",
              "      <td>Jessica Hendricks</td>\n",
              "      <td>1211</td>\n",
              "      <td>0</td>\n",
              "    </tr>\n",
              "  </tbody>\n",
              "</table>\n",
              "</div>"
            ],
            "text/plain": [
              "              Person  Salary (in USD)  class\n",
              "0        Jason Brown             1175      0\n",
              "1        Jacob Stein             2220      0\n",
              "2         Cody Brown             1537      0\n",
              "3      Larry Morales             1502      0\n",
              "4  Jessica Hendricks             1211      0"
            ]
          },
          "metadata": {
            "tags": []
          },
          "execution_count": 40
        }
      ]
    },
    {
      "cell_type": "markdown",
      "metadata": {
        "id": "oT2mw5NE_fLX",
        "colab_type": "text"
      },
      "source": [
        "We now have a binary classification task. We are going to use **proximity-based anomaly detection** for solving this task."
      ]
    },
    {
      "cell_type": "markdown",
      "metadata": {
        "id": "wcUnGoWC_fLX",
        "colab_type": "text"
      },
      "source": [
        "We are going to use the [k-NN classification method] for this. Also, we are going to use a Python library called `PyOD` which is specifically developed for anomaly detection purposes."
      ]
    },
    {
      "cell_type": "code",
      "metadata": {
        "id": "xK94BxHP_fLY",
        "colab_type": "code",
        "colab": {
          "base_uri": "https://localhost:8080/",
          "height": 609
        },
        "outputId": "096ad82e-9567-45b2-84d9-7b104f126c3b"
      },
      "source": [
        "!pip install pyod\n",
        "# Importing KNN module from PyOD\n",
        "from pyod.models.knn import KNN"
      ],
      "execution_count": 42,
      "outputs": [
        {
          "output_type": "stream",
          "text": [
            "Collecting pyod\n",
            "\u001b[?25l  Downloading https://files.pythonhosted.org/packages/17/d5/12bf702a918ac36e944fedb2257d51167b049b951f2b72503fc9a54dc9e8/pyod-0.7.7.1.tar.gz (87kB)\n",
            "\r\u001b[K     |███▊                            | 10kB 16.1MB/s eta 0:00:01\r\u001b[K     |███████▌                        | 20kB 1.7MB/s eta 0:00:01\r\u001b[K     |███████████▎                    | 30kB 2.5MB/s eta 0:00:01\r\u001b[K     |███████████████                 | 40kB 1.7MB/s eta 0:00:01\r\u001b[K     |██████████████████▊             | 51kB 2.1MB/s eta 0:00:01\r\u001b[K     |██████████████████████▌         | 61kB 2.5MB/s eta 0:00:01\r\u001b[K     |██████████████████████████▎     | 71kB 2.9MB/s eta 0:00:01\r\u001b[K     |██████████████████████████████  | 81kB 3.3MB/s eta 0:00:01\r\u001b[K     |████████████████████████████████| 92kB 2.9MB/s \n",
            "\u001b[?25hCollecting combo\n",
            "  Downloading https://files.pythonhosted.org/packages/8e/4e/9ab16d4aa21da464903bd5630b28b36c65298fd74639308089b2d173d5a7/combo-0.0.8.tar.gz\n",
            "Requirement already satisfied: joblib in /usr/local/lib/python3.6/dist-packages (from pyod) (0.14.1)\n",
            "Requirement already satisfied: matplotlib in /usr/local/lib/python3.6/dist-packages (from pyod) (3.1.2)\n",
            "Requirement already satisfied: numpy>=1.13 in /usr/local/lib/python3.6/dist-packages (from pyod) (1.17.4)\n",
            "Requirement already satisfied: numba>=0.35 in /usr/local/lib/python3.6/dist-packages (from pyod) (0.40.1)\n",
            "Requirement already satisfied: scipy>=0.19.1 in /usr/local/lib/python3.6/dist-packages (from pyod) (1.3.3)\n",
            "Requirement already satisfied: scikit_learn>=0.19.1 in /usr/local/lib/python3.6/dist-packages (from pyod) (0.21.3)\n",
            "Requirement already satisfied: six in /usr/local/lib/python3.6/dist-packages (from pyod) (1.12.0)\n",
            "Collecting suod\n",
            "  Downloading https://files.pythonhosted.org/packages/25/7b/295d003e6d8e1b9fd8ee370c9a98e5b3d7c882f710349469acfda0e2c851/suod-0.0.0.tar.gz\n",
            "Requirement already satisfied: python-dateutil>=2.1 in /usr/local/lib/python3.6/dist-packages (from matplotlib->pyod) (2.6.1)\n",
            "Requirement already satisfied: kiwisolver>=1.0.1 in /usr/local/lib/python3.6/dist-packages (from matplotlib->pyod) (1.1.0)\n",
            "Requirement already satisfied: pyparsing!=2.0.4,!=2.1.2,!=2.1.6,>=2.0.1 in /usr/local/lib/python3.6/dist-packages (from matplotlib->pyod) (2.4.5)\n",
            "Requirement already satisfied: cycler>=0.10 in /usr/local/lib/python3.6/dist-packages (from matplotlib->pyod) (0.10.0)\n",
            "Requirement already satisfied: llvmlite>=0.25.0dev0 in /usr/local/lib/python3.6/dist-packages (from numba>=0.35->pyod) (0.30.0)\n",
            "Requirement already satisfied: setuptools in /usr/local/lib/python3.6/dist-packages (from kiwisolver>=1.0.1->matplotlib->pyod) (42.0.2)\n",
            "Building wheels for collected packages: pyod, combo, suod\n",
            "  Building wheel for pyod (setup.py) ... \u001b[?25l\u001b[?25hdone\n",
            "  Created wheel for pyod: filename=pyod-0.7.7.1-cp36-none-any.whl size=98962 sha256=53d72ea72b836cda916aa9bc2c49f65730f4d161ea1c0a71ae12b1ab20229318\n",
            "  Stored in directory: /root/.cache/pip/wheels/9c/9e/bc/5bac69bdb00bfefbbfa74a43409d328962c349ad1b0954470a\n",
            "  Building wheel for combo (setup.py) ... \u001b[?25l\u001b[?25hdone\n",
            "  Created wheel for combo: filename=combo-0.0.8-cp36-none-any.whl size=41508 sha256=4d2e0b051660abefb19893477507101bbe039d3435a3daedb54108ff4cfa3f65\n",
            "  Stored in directory: /root/.cache/pip/wheels/dc/60/47/7b9c8b8e5561f6a51ccb7b0da69de7ae6af3a407e45e1e016f\n",
            "  Building wheel for suod (setup.py) ... \u001b[?25l\u001b[?25hdone\n",
            "  Created wheel for suod: filename=suod-0.0.0-cp36-none-any.whl size=8657 sha256=8bfe0e5080d9143bbeb86bcb8c5e83d6c529751b1998387800813ac2289ebbaa\n",
            "  Stored in directory: /root/.cache/pip/wheels/6c/42/2a/6a43a4ccfd1ad1f073d4ca300d0deade4649120d3d166a2d32\n",
            "Successfully built pyod combo suod\n",
            "Installing collected packages: combo, suod, pyod\n",
            "Successfully installed combo-0.0.8 pyod-0.7.7.1 suod-0.0.0\n"
          ],
          "name": "stdout"
        }
      ]
    },
    {
      "cell_type": "markdown",
      "metadata": {
        "id": "ax-fK26w_fLa",
        "colab_type": "text"
      },
      "source": [
        "The column `Person` is not at all useful for the model as it is nothing but a kind of identifier. Let's prepare the training data accordingly.  "
      ]
    },
    {
      "cell_type": "code",
      "metadata": {
        "id": "54Bo8HHe_fLb",
        "colab_type": "code",
        "colab": {}
      },
      "source": [
        "# Separate the salary values and the class labels \n",
        "X = salary_df['Salary (in USD)'].values.reshape(-1,1)\n",
        "y = salary_df['class'].values"
      ],
      "execution_count": 0,
      "outputs": []
    },
    {
      "cell_type": "code",
      "metadata": {
        "id": "ya4_C_hT_fLd",
        "colab_type": "code",
        "colab": {
          "base_uri": "https://localhost:8080/",
          "height": 69
        },
        "outputId": "e246b996-4a33-4ba0-d12f-4dd18e991da0"
      },
      "source": [
        "# Train kNN\n",
        "clf = KNN(contamination=0.02, n_neighbors=5)\n",
        "clf.fit(X)"
      ],
      "execution_count": 44,
      "outputs": [
        {
          "output_type": "execute_result",
          "data": {
            "text/plain": [
              "KNN(algorithm='auto', contamination=0.02, leaf_size=30, method='largest',\n",
              "  metric='minkowski', metric_params=None, n_jobs=1, n_neighbors=5, p=2,\n",
              "  radius=1.0)"
            ]
          },
          "metadata": {
            "tags": []
          },
          "execution_count": 44
        }
      ]
    },
    {
      "cell_type": "markdown",
      "metadata": {
        "id": "AIqjl2u3_fLg",
        "colab_type": "text"
      },
      "source": [
        "Let's discuss the two parameters we passed in to `KNN()` - \n",
        "\n",
        "- contamination - the amount of anomalies in the data (in percentage) which for our case is 2/100 = 0.02\n",
        "- n_neighbors - number of neighbors to consider for measuring the proximity "
      ]
    },
    {
      "cell_type": "code",
      "metadata": {
        "id": "w-GZfWiX_fLh",
        "colab_type": "code",
        "colab": {}
      },
      "source": [
        "# Get the prediction labels of the training data\n",
        "y_train_pred = clf.labels_ \n",
        "\n",
        "# Outlier scores\n",
        "y_train_scores = clf.decision_scores_  "
      ],
      "execution_count": 0,
      "outputs": []
    },
    {
      "cell_type": "markdown",
      "metadata": {
        "id": "Fq_7Caj3_fLj",
        "colab_type": "text"
      },
      "source": [
        "Let's now try to evaluate `KNN()` with respect to the training data. "
      ]
    },
    {
      "cell_type": "code",
      "metadata": {
        "id": "4W15i7Pn_fLk",
        "colab_type": "code",
        "colab": {
          "base_uri": "https://localhost:8080/",
          "height": 35
        },
        "outputId": "d46aa663-ac3c-4cbd-f16a-12d97cb4bd05"
      },
      "source": [
        "from pyod.utils import evaluate_print\n",
        "\n",
        "# Evaluate on the training data\n",
        "evaluate_print('KNN', y, y_train_scores)"
      ],
      "execution_count": 46,
      "outputs": [
        {
          "output_type": "stream",
          "text": [
            "KNN ROC:1.0, precision @ rank n:1.0\n"
          ],
          "name": "stdout"
        }
      ]
    },
    {
      "cell_type": "markdown",
      "metadata": {
        "id": "MvBo4Sex_fLm",
        "colab_type": "text"
      },
      "source": [
        "We see that the `KNN()` model was able perform exceptionally good on the training data. It provides three metrics and their scores - \n",
        "- [ROC]\n",
        "- [Precision]\n",
        "- A confidence rank with which it gives the outlier scores. "
      ]
    },
    {
      "cell_type": "markdown",
      "metadata": {
        "id": "aiwwSHvv_fLm",
        "colab_type": "text"
      },
      "source": [
        "We don't have any test data. But we can generate a sample salary value right? "
      ]
    },
    {
      "cell_type": "code",
      "metadata": {
        "id": "VqAPS83-_fLn",
        "colab_type": "code",
        "colab": {}
      },
      "source": [
        "# A salary of $37 (an anomaly right?)\n",
        "X_test = np.array([[37.]])"
      ],
      "execution_count": 0,
      "outputs": []
    },
    {
      "cell_type": "markdown",
      "metadata": {
        "id": "hObgm53a_fLp",
        "colab_type": "text"
      },
      "source": [
        "Let's now test how if the model could detect this salary value as an anomaly or not."
      ]
    },
    {
      "cell_type": "code",
      "metadata": {
        "id": "JR2arkvA_fLs",
        "colab_type": "code",
        "colab": {
          "base_uri": "https://localhost:8080/",
          "height": 35
        },
        "outputId": "d71b3a90-f430-4509-d0a7-bd1053368770"
      },
      "source": [
        "# Check what the model predicts on the given test data point\n",
        "clf.predict(X_test)"
      ],
      "execution_count": 48,
      "outputs": [
        {
          "output_type": "execute_result",
          "data": {
            "text/plain": [
              "array([1])"
            ]
          },
          "metadata": {
            "tags": []
          },
          "execution_count": 48
        }
      ]
    },
    {
      "cell_type": "markdown",
      "metadata": {
        "id": "IlrUEeCW_fLw",
        "colab_type": "text"
      },
      "source": [
        "We can see the model predicts just right."
      ]
    },
    {
      "cell_type": "code",
      "metadata": {
        "id": "5zGTgTjh_fLx",
        "colab_type": "code",
        "colab": {
          "base_uri": "https://localhost:8080/",
          "height": 35
        },
        "outputId": "dd5b565f-39ce-43e7-8d05-69656d966591"
      },
      "source": [
        "# A salary of $1256\n",
        "X_test_abnormal = np.array([[1256.]])\n",
        "\n",
        "# Predict\n",
        "clf.predict(X_test_abnormal)"
      ],
      "execution_count": 49,
      "outputs": [
        {
          "output_type": "execute_result",
          "data": {
            "text/plain": [
              "array([0])"
            ]
          },
          "metadata": {
            "tags": []
          },
          "execution_count": 49
        }
      ]
    },
    {
      "cell_type": "markdown",
      "metadata": {
        "id": "f7qVeOJM_fLz",
        "colab_type": "text"
      },
      "source": [
        "The model predicted this one as the normal data point which is correct. "
      ]
    }
  ]
}